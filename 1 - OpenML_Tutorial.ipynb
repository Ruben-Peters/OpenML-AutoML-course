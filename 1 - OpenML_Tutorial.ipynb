{
 "cells": [
  {
   "cell_type": "markdown",
   "metadata": {
    "nbpresent": {
     "id": "365ab75b-fb74-4fc0-9efb-ea51b2c208e6"
    },
    "slideshow": {
     "slide_type": "slide"
    }
   },
   "source": [
    "# OpenML in Python \n",
    "OpenML is an online collaboration platform for machine learning: \n",
    "\n",
    "* Find or share interesting, well-documented datasets\n",
    "* Define research / modelling goals (tasks)\n",
    "* Explore large amounts of machine learning algorithms, with APIs in Java, R, Python\n",
    "* Log and share reproducible experiments, models, results \n",
    "* Works seamlessly with scikit-learn and other libraries\n",
    "* Large scale benchmarking, compare to state of the art"
   ]
  },
  {
   "cell_type": "markdown",
   "metadata": {
    "slideshow": {
     "slide_type": "slide"
    }
   },
   "source": [
    "# Installation\n",
    "\n",
    "* `pip install openml`"
   ]
  },
  {
   "cell_type": "markdown",
   "metadata": {
    "nbpresent": {
     "id": "22990c96-6359-4864-bfc4-eb4c3c5a1ec1"
    },
    "slideshow": {
     "slide_type": "slide"
    }
   },
   "source": [
    "## Authentication\n",
    "\n",
    "* Create an OpenML account (free) on http://www.openml.org. \n",
    "* After logging in, open your account page (avatar on the top right)\n",
    "* Open 'Account Settings', then 'API authentication' to find your API key.\n",
    "\n",
    "There are two ways to authenticate:  \n",
    "\n",
    "* Create a plain text file `~/.openml/config` with the line 'apikey=MYKEY', replacing MYKEY with your API key.\n",
    "* Run the code below, replacing 'YOURKEY' with your API key."
   ]
  },
  {
   "cell_type": "code",
   "execution_count": 3,
   "metadata": {},
   "outputs": [],
   "source": [
    "# Uncomment and set your OpenML key. Don't share your key with others.\n",
    "import openml as oml\n",
    "#oml.config.apikey = 'YOURKEY' "
   ]
  },
  {
   "cell_type": "markdown",
   "metadata": {
    "nbpresent": {
     "id": "e4f0afda-8f78-4162-b196-b12399a65a5a"
    },
    "slideshow": {
     "slide_type": "slide"
    }
   },
   "source": [
    "# It all starts with data\n",
    "Explore thousands of datasets, or share your own"
   ]
  },
  {
   "cell_type": "markdown",
   "metadata": {
    "slideshow": {
     "slide_type": "subslide"
    }
   },
   "source": [
    "### List datasets"
   ]
  },
  {
   "cell_type": "code",
   "execution_count": 4,
   "metadata": {
    "nbpresent": {
     "id": "1f22460f-b6da-4e90-9437-336b84527224"
    }
   },
   "outputs": [
    {
     "name": "stdout",
     "output_type": "stream",
     "text": [
      "First 10 of 2519 datasets...\n"
     ]
    },
    {
     "data": {
      "text/html": [
       "<div>\n",
       "<style scoped>\n",
       "    .dataframe tbody tr th:only-of-type {\n",
       "        vertical-align: middle;\n",
       "    }\n",
       "\n",
       "    .dataframe tbody tr th {\n",
       "        vertical-align: top;\n",
       "    }\n",
       "\n",
       "    .dataframe thead th {\n",
       "        text-align: right;\n",
       "    }\n",
       "</style>\n",
       "<table border=\"1\" class=\"dataframe\">\n",
       "  <thead>\n",
       "    <tr style=\"text-align: right;\">\n",
       "      <th></th>\n",
       "      <th>did</th>\n",
       "      <th>name</th>\n",
       "      <th>NumberOfInstances</th>\n",
       "      <th>NumberOfFeatures</th>\n",
       "      <th>NumberOfClasses</th>\n",
       "    </tr>\n",
       "  </thead>\n",
       "  <tbody>\n",
       "    <tr>\n",
       "      <th>2</th>\n",
       "      <td>2</td>\n",
       "      <td>anneal</td>\n",
       "      <td>898</td>\n",
       "      <td>39</td>\n",
       "      <td>5</td>\n",
       "    </tr>\n",
       "    <tr>\n",
       "      <th>3</th>\n",
       "      <td>3</td>\n",
       "      <td>kr-vs-kp</td>\n",
       "      <td>3196</td>\n",
       "      <td>37</td>\n",
       "      <td>2</td>\n",
       "    </tr>\n",
       "    <tr>\n",
       "      <th>4</th>\n",
       "      <td>4</td>\n",
       "      <td>labor</td>\n",
       "      <td>57</td>\n",
       "      <td>17</td>\n",
       "      <td>2</td>\n",
       "    </tr>\n",
       "    <tr>\n",
       "      <th>5</th>\n",
       "      <td>5</td>\n",
       "      <td>arrhythmia</td>\n",
       "      <td>452</td>\n",
       "      <td>280</td>\n",
       "      <td>13</td>\n",
       "    </tr>\n",
       "    <tr>\n",
       "      <th>6</th>\n",
       "      <td>6</td>\n",
       "      <td>letter</td>\n",
       "      <td>20000</td>\n",
       "      <td>17</td>\n",
       "      <td>26</td>\n",
       "    </tr>\n",
       "    <tr>\n",
       "      <th>7</th>\n",
       "      <td>7</td>\n",
       "      <td>audiology</td>\n",
       "      <td>226</td>\n",
       "      <td>70</td>\n",
       "      <td>24</td>\n",
       "    </tr>\n",
       "    <tr>\n",
       "      <th>8</th>\n",
       "      <td>8</td>\n",
       "      <td>liver-disorders</td>\n",
       "      <td>345</td>\n",
       "      <td>7</td>\n",
       "      <td>16</td>\n",
       "    </tr>\n",
       "    <tr>\n",
       "      <th>9</th>\n",
       "      <td>9</td>\n",
       "      <td>autos</td>\n",
       "      <td>205</td>\n",
       "      <td>26</td>\n",
       "      <td>6</td>\n",
       "    </tr>\n",
       "    <tr>\n",
       "      <th>10</th>\n",
       "      <td>10</td>\n",
       "      <td>lymph</td>\n",
       "      <td>148</td>\n",
       "      <td>19</td>\n",
       "      <td>4</td>\n",
       "    </tr>\n",
       "    <tr>\n",
       "      <th>11</th>\n",
       "      <td>11</td>\n",
       "      <td>balance-scale</td>\n",
       "      <td>625</td>\n",
       "      <td>5</td>\n",
       "      <td>3</td>\n",
       "    </tr>\n",
       "  </tbody>\n",
       "</table>\n",
       "</div>"
      ],
      "text/plain": [
       "    did             name  NumberOfInstances  NumberOfFeatures  NumberOfClasses\n",
       "2     2           anneal                898                39                5\n",
       "3     3         kr-vs-kp               3196                37                2\n",
       "4     4            labor                 57                17                2\n",
       "5     5       arrhythmia                452               280               13\n",
       "6     6           letter              20000                17               26\n",
       "7     7        audiology                226                70               24\n",
       "8     8  liver-disorders                345                 7               16\n",
       "9     9            autos                205                26                6\n",
       "10   10            lymph                148                19                4\n",
       "11   11    balance-scale                625                 5                3"
      ]
     },
     "execution_count": 4,
     "metadata": {},
     "output_type": "execute_result"
    }
   ],
   "source": [
    "import openml as oml\n",
    "openml_list = oml.datasets.list_datasets() # Returns a dict\n",
    "\n",
    "# Show a nice table with some key data properties\n",
    "import pandas as pd\n",
    "datalist = pd.DataFrame.from_dict(openml_list, orient='index') \n",
    "datalist = datalist[[\n",
    "    'did','name','NumberOfInstances',\n",
    "    'NumberOfFeatures','NumberOfClasses'\n",
    "]]\n",
    "print(\"First 10 of %s datasets...\" % len(datalist))\n",
    "datalist.head(n=10)"
   ]
  },
  {
   "cell_type": "markdown",
   "metadata": {
    "slideshow": {
     "slide_type": "subslide"
    }
   },
   "source": [
    "### Exercise\n",
    "- Find datasets with more than 10000 examples\n",
    "- Find a dataset called 'eeg_eye_state'\n",
    "- Find all datasets with more than 50 classes"
   ]
  },
  {
   "cell_type": "code",
   "execution_count": 5,
   "metadata": {
    "nbpresent": {
     "id": "7429ccf1-fe43-49e9-8239-54601a7f974d"
    }
   },
   "outputs": [
    {
     "data": {
      "text/html": [
       "<div>\n",
       "<style scoped>\n",
       "    .dataframe tbody tr th:only-of-type {\n",
       "        vertical-align: middle;\n",
       "    }\n",
       "\n",
       "    .dataframe tbody tr th {\n",
       "        vertical-align: top;\n",
       "    }\n",
       "\n",
       "    .dataframe thead th {\n",
       "        text-align: right;\n",
       "    }\n",
       "</style>\n",
       "<table border=\"1\" class=\"dataframe\">\n",
       "  <thead>\n",
       "    <tr style=\"text-align: right;\">\n",
       "      <th></th>\n",
       "      <th>did</th>\n",
       "      <th>name</th>\n",
       "      <th>NumberOfInstances</th>\n",
       "      <th>NumberOfFeatures</th>\n",
       "      <th>NumberOfClasses</th>\n",
       "    </tr>\n",
       "  </thead>\n",
       "  <tbody>\n",
       "    <tr>\n",
       "      <th>23515</th>\n",
       "      <td>23515</td>\n",
       "      <td>sulfur</td>\n",
       "      <td>10081</td>\n",
       "      <td>7</td>\n",
       "      <td>-1</td>\n",
       "    </tr>\n",
       "    <tr>\n",
       "      <th>981</th>\n",
       "      <td>981</td>\n",
       "      <td>kdd_internet_usage</td>\n",
       "      <td>10108</td>\n",
       "      <td>69</td>\n",
       "      <td>2</td>\n",
       "    </tr>\n",
       "    <tr>\n",
       "      <th>372</th>\n",
       "      <td>372</td>\n",
       "      <td>internet_usage</td>\n",
       "      <td>10108</td>\n",
       "      <td>72</td>\n",
       "      <td>46</td>\n",
       "    </tr>\n",
       "    <tr>\n",
       "      <th>1536</th>\n",
       "      <td>1536</td>\n",
       "      <td>volcanoes-b6</td>\n",
       "      <td>10130</td>\n",
       "      <td>4</td>\n",
       "      <td>5</td>\n",
       "    </tr>\n",
       "    <tr>\n",
       "      <th>4562</th>\n",
       "      <td>4562</td>\n",
       "      <td>InternetUsage</td>\n",
       "      <td>10168</td>\n",
       "      <td>72</td>\n",
       "      <td>-1</td>\n",
       "    </tr>\n",
       "    <tr>\n",
       "      <th>1531</th>\n",
       "      <td>1531</td>\n",
       "      <td>volcanoes-b1</td>\n",
       "      <td>10176</td>\n",
       "      <td>4</td>\n",
       "      <td>5</td>\n",
       "    </tr>\n",
       "    <tr>\n",
       "      <th>1534</th>\n",
       "      <td>1534</td>\n",
       "      <td>volcanoes-b4</td>\n",
       "      <td>10190</td>\n",
       "      <td>4</td>\n",
       "      <td>5</td>\n",
       "    </tr>\n",
       "    <tr>\n",
       "      <th>1459</th>\n",
       "      <td>1459</td>\n",
       "      <td>artificial-characters</td>\n",
       "      <td>10218</td>\n",
       "      <td>8</td>\n",
       "      <td>10</td>\n",
       "    </tr>\n",
       "    <tr>\n",
       "      <th>1478</th>\n",
       "      <td>1478</td>\n",
       "      <td>har</td>\n",
       "      <td>10299</td>\n",
       "      <td>562</td>\n",
       "      <td>6</td>\n",
       "    </tr>\n",
       "    <tr>\n",
       "      <th>1533</th>\n",
       "      <td>1533</td>\n",
       "      <td>volcanoes-b3</td>\n",
       "      <td>10386</td>\n",
       "      <td>4</td>\n",
       "      <td>5</td>\n",
       "    </tr>\n",
       "    <tr>\n",
       "      <th>1532</th>\n",
       "      <td>1532</td>\n",
       "      <td>volcanoes-b2</td>\n",
       "      <td>10668</td>\n",
       "      <td>4</td>\n",
       "      <td>5</td>\n",
       "    </tr>\n",
       "    <tr>\n",
       "      <th>1053</th>\n",
       "      <td>1053</td>\n",
       "      <td>jm1</td>\n",
       "      <td>10885</td>\n",
       "      <td>22</td>\n",
       "      <td>2</td>\n",
       "    </tr>\n",
       "    <tr>\n",
       "      <th>1414</th>\n",
       "      <td>1414</td>\n",
       "      <td>Kaggle_bike_sharing_demand_challange</td>\n",
       "      <td>10886</td>\n",
       "      <td>12</td>\n",
       "      <td>822</td>\n",
       "    </tr>\n",
       "    <tr>\n",
       "      <th>1044</th>\n",
       "      <td>1044</td>\n",
       "      <td>eye_movements</td>\n",
       "      <td>10936</td>\n",
       "      <td>28</td>\n",
       "      <td>3</td>\n",
       "    </tr>\n",
       "    <tr>\n",
       "      <th>1019</th>\n",
       "      <td>1019</td>\n",
       "      <td>pendigits</td>\n",
       "      <td>10992</td>\n",
       "      <td>17</td>\n",
       "      <td>2</td>\n",
       "    </tr>\n",
       "    <tr>\n",
       "      <th>32</th>\n",
       "      <td>32</td>\n",
       "      <td>pendigits</td>\n",
       "      <td>10992</td>\n",
       "      <td>17</td>\n",
       "      <td>10</td>\n",
       "    </tr>\n",
       "    <tr>\n",
       "      <th>4534</th>\n",
       "      <td>4534</td>\n",
       "      <td>PhishingWebsites</td>\n",
       "      <td>11055</td>\n",
       "      <td>31</td>\n",
       "      <td>2</td>\n",
       "    </tr>\n",
       "    <tr>\n",
       "      <th>399</th>\n",
       "      <td>399</td>\n",
       "      <td>ohscal.wc</td>\n",
       "      <td>11162</td>\n",
       "      <td>11466</td>\n",
       "      <td>10</td>\n",
       "    </tr>\n",
       "    <tr>\n",
       "      <th>310</th>\n",
       "      <td>310</td>\n",
       "      <td>mammography</td>\n",
       "      <td>11183</td>\n",
       "      <td>7</td>\n",
       "      <td>2</td>\n",
       "    </tr>\n",
       "    <tr>\n",
       "      <th>1568</th>\n",
       "      <td>1568</td>\n",
       "      <td>nursery</td>\n",
       "      <td>12958</td>\n",
       "      <td>9</td>\n",
       "      <td>4</td>\n",
       "    </tr>\n",
       "  </tbody>\n",
       "</table>\n",
       "</div>"
      ],
      "text/plain": [
       "         did                                  name  NumberOfInstances  \\\n",
       "23515  23515                                sulfur              10081   \n",
       "981      981                    kdd_internet_usage              10108   \n",
       "372      372                        internet_usage              10108   \n",
       "1536    1536                          volcanoes-b6              10130   \n",
       "4562    4562                         InternetUsage              10168   \n",
       "1531    1531                          volcanoes-b1              10176   \n",
       "1534    1534                          volcanoes-b4              10190   \n",
       "1459    1459                 artificial-characters              10218   \n",
       "1478    1478                                   har              10299   \n",
       "1533    1533                          volcanoes-b3              10386   \n",
       "1532    1532                          volcanoes-b2              10668   \n",
       "1053    1053                                   jm1              10885   \n",
       "1414    1414  Kaggle_bike_sharing_demand_challange              10886   \n",
       "1044    1044                         eye_movements              10936   \n",
       "1019    1019                             pendigits              10992   \n",
       "32        32                             pendigits              10992   \n",
       "4534    4534                      PhishingWebsites              11055   \n",
       "399      399                             ohscal.wc              11162   \n",
       "310      310                           mammography              11183   \n",
       "1568    1568                               nursery              12958   \n",
       "\n",
       "       NumberOfFeatures  NumberOfClasses  \n",
       "23515                 7               -1  \n",
       "981                  69                2  \n",
       "372                  72               46  \n",
       "1536                  4                5  \n",
       "4562                 72               -1  \n",
       "1531                  4                5  \n",
       "1534                  4                5  \n",
       "1459                  8               10  \n",
       "1478                562                6  \n",
       "1533                  4                5  \n",
       "1532                  4                5  \n",
       "1053                 22                2  \n",
       "1414                 12              822  \n",
       "1044                 28                3  \n",
       "1019                 17                2  \n",
       "32                   17               10  \n",
       "4534                 31                2  \n",
       "399               11466               10  \n",
       "310                   7                2  \n",
       "1568                  9                4  "
      ]
     },
     "execution_count": 5,
     "metadata": {},
     "output_type": "execute_result"
    }
   ],
   "source": [
    "datalist[datalist.NumberOfInstances>10000\n",
    "        ].sort_values(['NumberOfInstances']).head(n=20)"
   ]
  },
  {
   "cell_type": "code",
   "execution_count": 6,
   "metadata": {},
   "outputs": [
    {
     "data": {
      "text/html": [
       "<div>\n",
       "<style scoped>\n",
       "    .dataframe tbody tr th:only-of-type {\n",
       "        vertical-align: middle;\n",
       "    }\n",
       "\n",
       "    .dataframe tbody tr th {\n",
       "        vertical-align: top;\n",
       "    }\n",
       "\n",
       "    .dataframe thead th {\n",
       "        text-align: right;\n",
       "    }\n",
       "</style>\n",
       "<table border=\"1\" class=\"dataframe\">\n",
       "  <thead>\n",
       "    <tr style=\"text-align: right;\">\n",
       "      <th></th>\n",
       "      <th>did</th>\n",
       "      <th>name</th>\n",
       "      <th>NumberOfInstances</th>\n",
       "      <th>NumberOfFeatures</th>\n",
       "      <th>NumberOfClasses</th>\n",
       "    </tr>\n",
       "  </thead>\n",
       "  <tbody>\n",
       "    <tr>\n",
       "      <th>1471</th>\n",
       "      <td>1471</td>\n",
       "      <td>eeg-eye-state</td>\n",
       "      <td>14980</td>\n",
       "      <td>15</td>\n",
       "      <td>2</td>\n",
       "    </tr>\n",
       "  </tbody>\n",
       "</table>\n",
       "</div>"
      ],
      "text/plain": [
       "       did           name  NumberOfInstances  NumberOfFeatures  \\\n",
       "1471  1471  eeg-eye-state              14980                15   \n",
       "\n",
       "      NumberOfClasses  \n",
       "1471                2  "
      ]
     },
     "execution_count": 6,
     "metadata": {},
     "output_type": "execute_result"
    }
   ],
   "source": [
    "datalist.query('name == \"eeg-eye-state\"')"
   ]
  },
  {
   "cell_type": "code",
   "execution_count": 7,
   "metadata": {},
   "outputs": [
    {
     "data": {
      "text/html": [
       "<div>\n",
       "<style scoped>\n",
       "    .dataframe tbody tr th:only-of-type {\n",
       "        vertical-align: middle;\n",
       "    }\n",
       "\n",
       "    .dataframe tbody tr th {\n",
       "        vertical-align: top;\n",
       "    }\n",
       "\n",
       "    .dataframe thead th {\n",
       "        text-align: right;\n",
       "    }\n",
       "</style>\n",
       "<table border=\"1\" class=\"dataframe\">\n",
       "  <thead>\n",
       "    <tr style=\"text-align: right;\">\n",
       "      <th></th>\n",
       "      <th>did</th>\n",
       "      <th>name</th>\n",
       "      <th>NumberOfInstances</th>\n",
       "      <th>NumberOfFeatures</th>\n",
       "      <th>NumberOfClasses</th>\n",
       "    </tr>\n",
       "  </thead>\n",
       "  <tbody>\n",
       "    <tr>\n",
       "      <th>190</th>\n",
       "      <td>190</td>\n",
       "      <td>mbagrade</td>\n",
       "      <td>61</td>\n",
       "      <td>3</td>\n",
       "      <td>57</td>\n",
       "    </tr>\n",
       "    <tr>\n",
       "      <th>512</th>\n",
       "      <td>512</td>\n",
       "      <td>balloon</td>\n",
       "      <td>2001</td>\n",
       "      <td>3</td>\n",
       "      <td>365</td>\n",
       "    </tr>\n",
       "    <tr>\n",
       "      <th>1092</th>\n",
       "      <td>1092</td>\n",
       "      <td>Crash</td>\n",
       "      <td>352</td>\n",
       "      <td>14</td>\n",
       "      <td>307</td>\n",
       "    </tr>\n",
       "    <tr>\n",
       "      <th>1414</th>\n",
       "      <td>1414</td>\n",
       "      <td>Kaggle_bike_sharing_demand_challange</td>\n",
       "      <td>10886</td>\n",
       "      <td>12</td>\n",
       "      <td>822</td>\n",
       "    </tr>\n",
       "    <tr>\n",
       "      <th>1491</th>\n",
       "      <td>1491</td>\n",
       "      <td>one-hundred-plants-margin</td>\n",
       "      <td>1600</td>\n",
       "      <td>65</td>\n",
       "      <td>100</td>\n",
       "    </tr>\n",
       "    <tr>\n",
       "      <th>1492</th>\n",
       "      <td>1492</td>\n",
       "      <td>one-hundred-plants-shape</td>\n",
       "      <td>1600</td>\n",
       "      <td>65</td>\n",
       "      <td>100</td>\n",
       "    </tr>\n",
       "    <tr>\n",
       "      <th>1493</th>\n",
       "      <td>1493</td>\n",
       "      <td>one-hundred-plants-texture</td>\n",
       "      <td>1599</td>\n",
       "      <td>65</td>\n",
       "      <td>100</td>\n",
       "    </tr>\n",
       "    <tr>\n",
       "      <th>4546</th>\n",
       "      <td>4546</td>\n",
       "      <td>Plants</td>\n",
       "      <td>44940</td>\n",
       "      <td>16</td>\n",
       "      <td>57</td>\n",
       "    </tr>\n",
       "    <tr>\n",
       "      <th>4552</th>\n",
       "      <td>4552</td>\n",
       "      <td>BachChoralHarmony</td>\n",
       "      <td>5665</td>\n",
       "      <td>17</td>\n",
       "      <td>102</td>\n",
       "    </tr>\n",
       "    <tr>\n",
       "      <th>40601</th>\n",
       "      <td>40601</td>\n",
       "      <td>RAM_price</td>\n",
       "      <td>333</td>\n",
       "      <td>3</td>\n",
       "      <td>219</td>\n",
       "    </tr>\n",
       "    <tr>\n",
       "      <th>40753</th>\n",
       "      <td>40753</td>\n",
       "      <td>delays_zurich_transport</td>\n",
       "      <td>5465575</td>\n",
       "      <td>15</td>\n",
       "      <td>4082</td>\n",
       "    </tr>\n",
       "    <tr>\n",
       "      <th>40916</th>\n",
       "      <td>40916</td>\n",
       "      <td>HappinessRank_2015</td>\n",
       "      <td>158</td>\n",
       "      <td>12</td>\n",
       "      <td>157</td>\n",
       "    </tr>\n",
       "    <tr>\n",
       "      <th>41021</th>\n",
       "      <td>41021</td>\n",
       "      <td>Moneyball</td>\n",
       "      <td>1232</td>\n",
       "      <td>15</td>\n",
       "      <td>87</td>\n",
       "    </tr>\n",
       "    <tr>\n",
       "      <th>41022</th>\n",
       "      <td>41022</td>\n",
       "      <td>Short_Track_Speed_Skating</td>\n",
       "      <td>5125</td>\n",
       "      <td>27</td>\n",
       "      <td>2954</td>\n",
       "    </tr>\n",
       "  </tbody>\n",
       "</table>\n",
       "</div>"
      ],
      "text/plain": [
       "         did                                  name  NumberOfInstances  \\\n",
       "190      190                              mbagrade                 61   \n",
       "512      512                               balloon               2001   \n",
       "1092    1092                                 Crash                352   \n",
       "1414    1414  Kaggle_bike_sharing_demand_challange              10886   \n",
       "1491    1491             one-hundred-plants-margin               1600   \n",
       "1492    1492              one-hundred-plants-shape               1600   \n",
       "1493    1493            one-hundred-plants-texture               1599   \n",
       "4546    4546                                Plants              44940   \n",
       "4552    4552                     BachChoralHarmony               5665   \n",
       "40601  40601                             RAM_price                333   \n",
       "40753  40753               delays_zurich_transport            5465575   \n",
       "40916  40916                    HappinessRank_2015                158   \n",
       "41021  41021                             Moneyball               1232   \n",
       "41022  41022             Short_Track_Speed_Skating               5125   \n",
       "\n",
       "       NumberOfFeatures  NumberOfClasses  \n",
       "190                   3               57  \n",
       "512                   3              365  \n",
       "1092                 14              307  \n",
       "1414                 12              822  \n",
       "1491                 65              100  \n",
       "1492                 65              100  \n",
       "1493                 65              100  \n",
       "4546                 16               57  \n",
       "4552                 17              102  \n",
       "40601                 3              219  \n",
       "40753                15             4082  \n",
       "40916                12              157  \n",
       "41021                15               87  \n",
       "41022                27             2954  "
      ]
     },
     "execution_count": 7,
     "metadata": {},
     "output_type": "execute_result"
    }
   ],
   "source": [
    "datalist.query('NumberOfClasses > 50')"
   ]
  },
  {
   "cell_type": "markdown",
   "metadata": {
    "nbpresent": {
     "id": "7b58c1f7-3484-4e26-b6b5-67ed6f99b9e9"
    },
    "slideshow": {
     "slide_type": "subslide"
    }
   },
   "source": [
    "## Download datasets\n",
    "This is done based on the dataset ID ('did')."
   ]
  },
  {
   "cell_type": "code",
   "execution_count": 8,
   "metadata": {
    "nbpresent": {
     "id": "d377efff-2484-4ac3-8706-6434644949fd"
    }
   },
   "outputs": [
    {
     "name": "stdout",
     "output_type": "stream",
     "text": [
      "This is dataset 'eeg-eye-state', the target feature is 'Class'\n",
      "URL: https://www.openml.org/data/v1/download/1587924/eeg-eye-state.arff\n",
      "**Author**: Oliver Roesler  \n",
      "**Source**: [UCI](https://archive.ics.uci.edu/ml/datasets/EEG+Eye+State), Baden-Wuerttemberg, Cooperative State University (DHBW), Stuttgart, Germany  \n",
      "**Please cite**: [UCI](https://archive.ics.uci.edu/ml/citation_policy.html)  \n",
      "\n",
      "All data is from one continuous EEG measurement with the Emotiv EEG Neuroheadset. The duration of the measurement was 117 seconds. The eye state was detected via a camera during the EEG measurement and added later manually to the file after\n"
     ]
    }
   ],
   "source": [
    "dataset = oml.datasets.get_dataset(1471)\n",
    "\n",
    "# Print a summary\n",
    "print(\"This is dataset '%s', the target feature is '%s'\" % \n",
    "      (dataset.name, dataset.default_target_attribute))\n",
    "print(\"URL: %s\" % dataset.url)\n",
    "print(dataset.description[:500])"
   ]
  },
  {
   "cell_type": "markdown",
   "metadata": {
    "nbpresent": {
     "id": "a80f9990-e073-48e6-9df3-4e27f5db74f7"
    },
    "slideshow": {
     "slide_type": "subslide"
    }
   },
   "source": [
    "Get the actual data.  \n",
    "Returned as numpy array, with meta-info (e.g. target feature, feature names,...)"
   ]
  },
  {
   "cell_type": "code",
   "execution_count": 9,
   "metadata": {
    "nbpresent": {
     "id": "ab60383f-fc6d-4ca0-80f7-55ece02a0ac4"
    }
   },
   "outputs": [
    {
     "name": "stdout",
     "output_type": "stream",
     "text": [
      "            V1           V2           V3           V4           V5  \\\n",
      "0  4329.229980  4009.229980  4289.229980  4148.209961  4350.259766   \n",
      "1  4324.620117  4004.620117  4293.850098  4148.720215  4342.049805   \n",
      "2  4327.689941  4006.669922  4295.379883  4156.410156  4336.919922   \n",
      "3  4328.720215  4011.790039  4296.410156  4155.899902  4343.589844   \n",
      "4  4326.149902  4011.790039  4292.310059  4151.279785  4347.689941   \n",
      "5  4321.029785  4004.620117  4284.100098  4153.330078  4345.640137   \n",
      "6  4319.490234  4001.030029  4280.509766  4151.790039  4343.589844   \n",
      "7  4325.640137  4006.669922  4278.459961  4143.080078  4344.100098   \n",
      "8  4326.149902  4010.770020  4276.410156  4139.490234  4345.129883   \n",
      "9  4326.149902  4011.280029  4276.919922  4142.049805  4344.100098   \n",
      "\n",
      "            V6           V7           V8           V9          V10  \\\n",
      "0  4586.149902  4096.919922  4641.029785  4222.049805  4238.459961   \n",
      "1  4586.669922  4097.439941  4638.970215  4210.770020  4226.669922   \n",
      "2  4583.589844  4096.919922  4630.259766  4207.689941  4222.049805   \n",
      "3  4582.560059  4097.439941  4630.770020  4217.439941  4235.379883   \n",
      "4  4586.669922  4095.899902  4627.689941  4210.770020  4244.100098   \n",
      "5  4587.180176  4093.330078  4616.919922  4202.560059  4232.819824   \n",
      "6  4584.620117  4089.739990  4615.899902  4212.310059  4226.669922   \n",
      "7  4583.080078  4087.179932  4614.870117  4205.640137  4230.259766   \n",
      "8  4584.100098  4091.280029  4608.209961  4187.689941  4229.740234   \n",
      "9  4582.560059  4092.820068  4608.720215  4194.359863  4228.720215   \n",
      "\n",
      "           V11          V12          V13          V14  class  \n",
      "0  4211.279785  4280.509766  4635.899902  4393.850098      0  \n",
      "1  4207.689941  4279.490234  4632.819824  4384.100098      0  \n",
      "2  4206.669922  4282.049805  4628.720215  4389.229980      0  \n",
      "3  4210.770020  4287.689941  4632.310059  4396.410156      0  \n",
      "4  4212.819824  4288.209961  4632.819824  4398.459961      0  \n",
      "5  4209.740234  4281.029785  4628.209961  4389.740234      0  \n",
      "6  4201.029785  4269.740234  4625.129883  4378.459961      0  \n",
      "7  4195.899902  4266.669922  4622.049805  4380.509766      0  \n",
      "8  4202.049805  4273.850098  4627.180176  4389.740234      0  \n",
      "9  4212.819824  4277.950195  4637.439941  4393.330078      0  \n"
     ]
    }
   ],
   "source": [
    "X, y, attribute_names = dataset.get_data(\n",
    "    target=dataset.default_target_attribute,\n",
    "    return_attribute_names=True,\n",
    ")\n",
    "eeg = pd.DataFrame(X, columns=attribute_names)\n",
    "eeg['class'] = y\n",
    "print(eeg[:10])"
   ]
  },
  {
   "cell_type": "markdown",
   "metadata": {},
   "source": [
    "### Exercise\n",
    "- Explore the data visually"
   ]
  },
  {
   "cell_type": "code",
   "execution_count": 10,
   "metadata": {
    "slideshow": {
     "slide_type": "skip"
    }
   },
   "outputs": [
    {
     "data": {
      "image/png": "[encoded data removed]",
      "text/plain": [
       "<Figure size 720x720 with 16 Axes>"
      ]
     },
     "metadata": {},
     "output_type": "display_data"
    }
   ],
   "source": [
    "%matplotlib inline\n",
    "eegs = eeg.sample(n=1000)\n",
    "_ = pd.plotting.scatter_matrix(\n",
    "    eegs.iloc[:100,:4], \n",
    "    c=eegs[:100]['class'], \n",
    "    figsize=(10, 10), \n",
    "    marker='o', \n",
    "    hist_kwds={'bins': 20}, \n",
    "    alpha=.8, \n",
    "    cmap='plasma'\n",
    ")"
   ]
  },
  {
   "cell_type": "markdown",
   "metadata": {
    "nbpresent": {
     "id": "e5126f2b-6a3b-48a4-bd2d-9fa1bf76c8d4"
    },
    "slideshow": {
     "slide_type": "slide"
    }
   },
   "source": [
    "## Train machine learning models\n",
    "Train a scikit-learn model on the data manually"
   ]
  },
  {
   "cell_type": "code",
   "execution_count": 11,
   "metadata": {
    "nbpresent": {
     "id": "e99e1923-f713-480b-aeb7-317f1ca9f21c"
    }
   },
   "outputs": [
    {
     "data": {
      "text/plain": [
       "KNeighborsClassifier(algorithm='auto', leaf_size=30, metric='minkowski',\n",
       "           metric_params=None, n_jobs=1, n_neighbors=1, p=2,\n",
       "           weights='uniform')"
      ]
     },
     "execution_count": 11,
     "metadata": {},
     "output_type": "execute_result"
    }
   ],
   "source": [
    "from sklearn import neighbors\n",
    "\n",
    "dataset = oml.datasets.get_dataset(1471)\n",
    "X, y = dataset.get_data(target=dataset.default_target_attribute)\n",
    "clf = neighbors.KNeighborsClassifier(n_neighbors=1)\n",
    "clf.fit(X, y)"
   ]
  },
  {
   "cell_type": "markdown",
   "metadata": {
    "nbpresent": {
     "id": "eeb5fce8-4073-40c3-ab2b-a211bc77b1d4"
    },
    "slideshow": {
     "slide_type": "skip"
    }
   },
   "source": [
    "You can also ask for meta-data to automatically preprocess the data\n",
    "- e.g. categorical features -> do feature encoding"
   ]
  },
  {
   "cell_type": "code",
   "execution_count": 12,
   "metadata": {
    "nbpresent": {
     "id": "a32e47f7-6d88-4277-ac5d-fb3f62012860"
    },
    "slideshow": {
     "slide_type": "skip"
    }
   },
   "outputs": [
    {
     "name": "stdout",
     "output_type": "stream",
     "text": [
      "Categorical features: [True, True, True, True, True, True, True, True, False, False, True, True, True, True, True, True, True, False]\n"
     ]
    },
    {
     "data": {
      "text/plain": [
       "KNeighborsClassifier(algorithm='auto', leaf_size=30, metric='minkowski',\n",
       "           metric_params=None, n_jobs=1, n_neighbors=1, p=2,\n",
       "           weights='uniform')"
      ]
     },
     "execution_count": 12,
     "metadata": {},
     "output_type": "execute_result"
    }
   ],
   "source": [
    "from sklearn import preprocessing\n",
    "dataset = oml.datasets.get_dataset(10)\n",
    "X, y, categorical = dataset.get_data(\n",
    "    target=dataset.default_target_attribute,\n",
    "    return_categorical_indicator=True,\n",
    ")\n",
    "print(\"Categorical features: %s\" % categorical)\n",
    "enc = preprocessing.OneHotEncoder(categorical_features=categorical)\n",
    "X = enc.fit_transform(X)\n",
    "clf.fit(X, y)"
   ]
  },
  {
   "cell_type": "markdown",
   "metadata": {
    "nbpresent": {
     "id": "ba1405dc-32b8-4518-9904-c54b0cae6757"
    },
    "slideshow": {
     "slide_type": "slide"
    }
   },
   "source": [
    "# Tasks: set your own goals\n",
    "and invite others to work on the same problem  \n",
    "Note: tasks are typically created in the web interface"
   ]
  },
  {
   "cell_type": "markdown",
   "metadata": {
    "nbpresent": {
     "id": "80b6e0fc-16cb-40a4-bc1c-c6e3a367db71"
    },
    "slideshow": {
     "slide_type": "subslide"
    }
   },
   "source": [
    "## Listing tasks"
   ]
  },
  {
   "cell_type": "code",
   "execution_count": 13,
   "metadata": {
    "nbpresent": {
     "id": "6458d620-c77c-4d30-ab93-49981ab7156a"
    }
   },
   "outputs": [
    {
     "name": "stdout",
     "output_type": "stream",
     "text": [
      "First 5 of 5000 tasks:\n"
     ]
    },
    {
     "data": {
      "text/html": [
       "<div>\n",
       "<style scoped>\n",
       "    .dataframe tbody tr th:only-of-type {\n",
       "        vertical-align: middle;\n",
       "    }\n",
       "\n",
       "    .dataframe tbody tr th {\n",
       "        vertical-align: top;\n",
       "    }\n",
       "\n",
       "    .dataframe thead th {\n",
       "        text-align: right;\n",
       "    }\n",
       "</style>\n",
       "<table border=\"1\" class=\"dataframe\">\n",
       "  <thead>\n",
       "    <tr style=\"text-align: right;\">\n",
       "      <th></th>\n",
       "      <th>tid</th>\n",
       "      <th>did</th>\n",
       "      <th>name</th>\n",
       "      <th>task_type</th>\n",
       "      <th>estimation_procedure</th>\n",
       "      <th>evaluation_measures</th>\n",
       "    </tr>\n",
       "  </thead>\n",
       "  <tbody>\n",
       "    <tr>\n",
       "      <th>2</th>\n",
       "      <td>2</td>\n",
       "      <td>2</td>\n",
       "      <td>anneal</td>\n",
       "      <td>Supervised Classification</td>\n",
       "      <td>10-fold Crossvalidation</td>\n",
       "      <td>predictive_accuracy</td>\n",
       "    </tr>\n",
       "    <tr>\n",
       "      <th>3</th>\n",
       "      <td>3</td>\n",
       "      <td>3</td>\n",
       "      <td>kr-vs-kp</td>\n",
       "      <td>Supervised Classification</td>\n",
       "      <td>10-fold Crossvalidation</td>\n",
       "      <td>NaN</td>\n",
       "    </tr>\n",
       "    <tr>\n",
       "      <th>4</th>\n",
       "      <td>4</td>\n",
       "      <td>4</td>\n",
       "      <td>labor</td>\n",
       "      <td>Supervised Classification</td>\n",
       "      <td>10-fold Crossvalidation</td>\n",
       "      <td>predictive_accuracy</td>\n",
       "    </tr>\n",
       "    <tr>\n",
       "      <th>5</th>\n",
       "      <td>5</td>\n",
       "      <td>5</td>\n",
       "      <td>arrhythmia</td>\n",
       "      <td>Supervised Classification</td>\n",
       "      <td>10-fold Crossvalidation</td>\n",
       "      <td>predictive_accuracy</td>\n",
       "    </tr>\n",
       "    <tr>\n",
       "      <th>6</th>\n",
       "      <td>6</td>\n",
       "      <td>6</td>\n",
       "      <td>letter</td>\n",
       "      <td>Supervised Classification</td>\n",
       "      <td>10-fold Crossvalidation</td>\n",
       "      <td>NaN</td>\n",
       "    </tr>\n",
       "  </tbody>\n",
       "</table>\n",
       "</div>"
      ],
      "text/plain": [
       "   tid  did        name                  task_type     estimation_procedure  \\\n",
       "2    2    2      anneal  Supervised Classification  10-fold Crossvalidation   \n",
       "3    3    3    kr-vs-kp  Supervised Classification  10-fold Crossvalidation   \n",
       "4    4    4       labor  Supervised Classification  10-fold Crossvalidation   \n",
       "5    5    5  arrhythmia  Supervised Classification  10-fold Crossvalidation   \n",
       "6    6    6      letter  Supervised Classification  10-fold Crossvalidation   \n",
       "\n",
       "   evaluation_measures  \n",
       "2  predictive_accuracy  \n",
       "3                  NaN  \n",
       "4  predictive_accuracy  \n",
       "5  predictive_accuracy  \n",
       "6                  NaN  "
      ]
     },
     "execution_count": 13,
     "metadata": {},
     "output_type": "execute_result"
    }
   ],
   "source": [
    "task_list = oml.tasks.list_tasks(size=5000) # Get first 5000 tasks\n",
    "\n",
    "mytasks = pd.DataFrame.from_dict(task_list, orient='index')\n",
    "mytasks = mytasks[['tid','did','name','task_type','estimation_procedure','evaluation_measures']]\n",
    "print(\"First 5 of %s tasks:\" % len(mytasks))\n",
    "mytasks.head()"
   ]
  },
  {
   "cell_type": "markdown",
   "metadata": {
    "slideshow": {
     "slide_type": "subslide"
    }
   },
   "source": [
    "### Exercise\n",
    "Search for the tasks on the 'eeg-eye-state' dataset"
   ]
  },
  {
   "cell_type": "code",
   "execution_count": 14,
   "metadata": {},
   "outputs": [
    {
     "data": {
      "text/html": [
       "<div>\n",
       "<style scoped>\n",
       "    .dataframe tbody tr th:only-of-type {\n",
       "        vertical-align: middle;\n",
       "    }\n",
       "\n",
       "    .dataframe tbody tr th {\n",
       "        vertical-align: top;\n",
       "    }\n",
       "\n",
       "    .dataframe thead th {\n",
       "        text-align: right;\n",
       "    }\n",
       "</style>\n",
       "<table border=\"1\" class=\"dataframe\">\n",
       "  <thead>\n",
       "    <tr style=\"text-align: right;\">\n",
       "      <th></th>\n",
       "      <th>tid</th>\n",
       "      <th>did</th>\n",
       "      <th>name</th>\n",
       "      <th>task_type</th>\n",
       "      <th>estimation_procedure</th>\n",
       "      <th>evaluation_measures</th>\n",
       "    </tr>\n",
       "  </thead>\n",
       "  <tbody>\n",
       "    <tr>\n",
       "      <th>9983</th>\n",
       "      <td>9983</td>\n",
       "      <td>1471</td>\n",
       "      <td>eeg-eye-state</td>\n",
       "      <td>Supervised Classification</td>\n",
       "      <td>10-fold Crossvalidation</td>\n",
       "      <td>NaN</td>\n",
       "    </tr>\n",
       "    <tr>\n",
       "      <th>14951</th>\n",
       "      <td>14951</td>\n",
       "      <td>1471</td>\n",
       "      <td>eeg-eye-state</td>\n",
       "      <td>Supervised Classification</td>\n",
       "      <td>10-fold Crossvalidation</td>\n",
       "      <td>NaN</td>\n",
       "    </tr>\n",
       "  </tbody>\n",
       "</table>\n",
       "</div>"
      ],
      "text/plain": [
       "         tid   did           name                  task_type  \\\n",
       "9983    9983  1471  eeg-eye-state  Supervised Classification   \n",
       "14951  14951  1471  eeg-eye-state  Supervised Classification   \n",
       "\n",
       "          estimation_procedure evaluation_measures  \n",
       "9983   10-fold Crossvalidation                 NaN  \n",
       "14951  10-fold Crossvalidation                 NaN  "
      ]
     },
     "execution_count": 14,
     "metadata": {},
     "output_type": "execute_result"
    }
   ],
   "source": [
    "mytasks.query('name==\"eeg-eye-state\"')"
   ]
  },
  {
   "cell_type": "markdown",
   "metadata": {
    "nbpresent": {
     "id": "fdd2d347-6239-4718-ae3a-9385f01fa416"
    },
    "slideshow": {
     "slide_type": "subslide"
    }
   },
   "source": [
    "## Download tasks"
   ]
  },
  {
   "cell_type": "code",
   "execution_count": 15,
   "metadata": {
    "nbpresent": {
     "id": "8d954b88-96dc-48d5-ad06-524d040a0324"
    }
   },
   "outputs": [
    {
     "name": "stdout",
     "output_type": "stream",
     "text": [
      "{'class_labels': ['1', '2'],\n",
      " 'cost_matrix': None,\n",
      " 'dataset_id': 1471,\n",
      " 'estimation_parameters': {'number_folds': '10',\n",
      "                           'number_repeats': '1',\n",
      "                           'percentage': '',\n",
      "                           'stratified_sampling': 'true'},\n",
      " 'estimation_procedure': {'data_splits_url': 'https://www.openml.org/api_splits/get/14951/Task_14951_splits.arff',\n",
      "                          'parameters': {'number_folds': '10',\n",
      "                                         'number_repeats': '1',\n",
      "                                         'percentage': '',\n",
      "                                         'stratified_sampling': 'true'},\n",
      "                          'type': 'crossvalidation'},\n",
      " 'evaluation_measure': None,\n",
      " 'split': None,\n",
      " 'target_name': 'Class',\n",
      " 'task_id': 14951,\n",
      " 'task_type': 'Supervised Classification',\n",
      " 'task_type_id': 1}\n"
     ]
    }
   ],
   "source": [
    "from pprint import pprint\n",
    "task = oml.tasks.get_task(14951)\n",
    "pprint(vars(task))"
   ]
  },
  {
   "cell_type": "markdown",
   "metadata": {
    "nbpresent": {
     "id": "a95d5c04-453b-4840-9cdf-1c248b20d35e"
    },
    "slideshow": {
     "slide_type": "slide"
    }
   },
   "source": [
    "# Runs: Easily explore models by running them on tasks\n",
    "We can run (many) scikit-learn algorithms on (many) OpenML tasks."
   ]
  },
  {
   "cell_type": "code",
   "execution_count": 16,
   "metadata": {
    "nbpresent": {
     "id": "d1f4d4d9-8d20-4bb5-b852-f5eeff6ab8ed"
    },
    "slideshow": {
     "slide_type": "subslide"
    }
   },
   "outputs": [],
   "source": [
    "from sklearn import ensemble, tree\n",
    "\n",
    "# Get a task\n",
    "task = oml.tasks.get_task(14951)\n",
    "\n",
    "# Build any classifier or pipeline\n",
    "clf = tree.ExtraTreeClassifier()\n",
    "\n",
    "# Create a flow\n",
    "flow = oml.flows.sklearn_to_flow(clf)\n",
    "\n",
    "# Run the flow \n",
    "run = oml.runs.run_flow_on_task(task, flow)"
   ]
  },
  {
   "cell_type": "markdown",
   "metadata": {
    "nbpresent": {
     "id": "a686ebf7-8eda-47af-aa86-e46d273c3712"
    },
    "slideshow": {
     "slide_type": "subslide"
    }
   },
   "source": [
    "Share the run on the OpenML server"
   ]
  },
  {
   "cell_type": "code",
   "execution_count": 17,
   "metadata": {
    "nbpresent": {
     "id": "367d2ee5-ca11-4372-a600-c9309f4a720e"
    }
   },
   "outputs": [
    {
     "name": "stdout",
     "output_type": "stream",
     "text": [
      "Uploaded to http://www.openml.org/r/9204035\n"
     ]
    }
   ],
   "source": [
    "myrun = run.publish()\n",
    "print(\"Uploaded to http://www.openml.org/r/\" + str(myrun.run_id))"
   ]
  },
  {
   "cell_type": "markdown",
   "metadata": {
    "slideshow": {
     "slide_type": "subslide"
    }
   },
   "source": [
    "### It also works with pipelines\n",
    "When you need to handle 'dirty' data, build pipelines to model then automatically"
   ]
  },
  {
   "cell_type": "code",
   "execution_count": 18,
   "metadata": {},
   "outputs": [
    {
     "name": "stdout",
     "output_type": "stream",
     "text": [
      "Uploaded to http://www.openml.org/r/9204036\n"
     ]
    }
   ],
   "source": [
    "from sklearn import pipeline, ensemble, preprocessing\n",
    "from openml import tasks,runs, datasets\n",
    "task = tasks.get_task(59)\n",
    "pipe = pipeline.Pipeline(steps=[\n",
    "            ('Imputer', preprocessing.Imputer(strategy='median')),\n",
    "            ('OneHotEncoder', preprocessing.OneHotEncoder(sparse=False, handle_unknown='ignore')),\n",
    "            ('Classifier', ensemble.RandomForestClassifier())\n",
    "           ])\n",
    "flow = oml.flows.sklearn_to_flow(pipe)\n",
    "\n",
    "run = oml.runs.run_flow_on_task(task, flow)\n",
    "myrun = run.publish()\n",
    "print(\"Uploaded to http://www.openml.org/r/\" + str(myrun.run_id))"
   ]
  },
  {
   "cell_type": "markdown",
   "metadata": {},
   "source": [
    "## Download previous results\n",
    "You can download all your results anytime, as well as everybody else's  \n",
    "List runs by uploader, flow, task, tag, id, ..."
   ]
  },
  {
   "cell_type": "code",
   "execution_count": 19,
   "metadata": {},
   "outputs": [
    {
     "data": {
      "image/png": "[encoded data removed]",
      "text/plain": [
       "<Figure size 432x288 with 1 Axes>"
      ]
     },
     "metadata": {},
     "output_type": "display_data"
    }
   ],
   "source": [
    "import seaborn as sns\n",
    "import pandas as pd\n",
    "\n",
    "# Get the list of runs for task 14951\n",
    "myruns = oml.runs.list_runs(task=[14951], size=100)\n",
    "\n",
    "# Download the tasks and plot the scores\n",
    "scores = []\n",
    "for id, _ in myruns.items():\n",
    "    run = oml.runs.get_run(id)\n",
    "    scores.append({\"flow\":run.flow_name, \"score\":run.evaluations['area_under_roc_curve']})\n",
    "    \n",
    "sns.violinplot(x=\"score\", y=\"flow\", data=pd.DataFrame(scores), scale=\"width\", palette=\"Set3\");"
   ]
  },
  {
   "cell_type": "markdown",
   "metadata": {
    "slideshow": {
     "slide_type": "slide"
    }
   },
   "source": [
    "## A Challenge\n",
    "Try to build the best possible models on several OpenML tasks, and compare your results with the rest of the class, and learn from them. Some tasks you could try (or browse openml.org):\n",
    "\n",
    "* EEG eye state: data_id:[1471](http://www.openml.org/d/1471), task_id:[14951](http://www.openml.org/t/14951)\n",
    "* Volcanoes on Venus: data_id:[1527](http://www.openml.org/d/1527), task_id:[10103](http://www.openml.org/t/10103)\n",
    "* Walking activity: data_id:[1509](http://www.openml.org/d/1509), task_id: [9945](http://www.openml.org/t/9945), 150k instances\n",
    "* Covertype (Satellite): data_id:[150](http://www.openml.org/d/150), task_id: [218](http://www.openml.org/t/218). 500k instances\n",
    "* Higgs (Physics): data_id:[23512](http://www.openml.org/d/23512), task_id:[52950](http://www.openml.org/t/52950). 100k instances, missing values"
   ]
  },
  {
   "cell_type": "markdown",
   "metadata": {
    "collapsed": true,
    "slideshow": {
     "slide_type": "subslide"
    }
   },
   "source": [
    "Easy benchmarking:"
   ]
  },
  {
   "cell_type": "code",
   "execution_count": 20,
   "metadata": {
    "slideshow": {
     "slide_type": "-"
    }
   },
   "outputs": [
    {
     "name": "stdout",
     "output_type": "stream",
     "text": [
      "OpenML: Run already exists in server. Run id(s): {9203690}\n"
     ]
    }
   ],
   "source": [
    "for task_id in [14951, ]: #  Add further tasks. Disclaimer: they might take some time\n",
    "    task = oml.tasks.get_task(task_id)\n",
    "    data = oml.datasets.get_dataset(task.dataset_id)\n",
    "    clf = neighbors.KNeighborsClassifier(n_neighbors=5)\n",
    "    flow = oml.flows.sklearn_to_flow(clf)\n",
    "    \n",
    "    try:\n",
    "        run = oml.runs.run_flow_on_task(task, flow)\n",
    "        myrun = run.publish()\n",
    "        print(\"kNN on %s: http://www.openml.org/r/%d\" % (data.name, myrun.run_id))\n",
    "    except oml.exceptions.PyOpenMLError as err:\n",
    "        print(\"OpenML: {0}\".format(err))"
   ]
  },
  {
   "cell_type": "markdown",
   "metadata": {
    "collapsed": true,
    "slideshow": {
     "slide_type": "fragment"
    }
   },
   "source": [
    "## More exercises\n",
    "* Find an interesting dataset on OpenML and create an overview of the best models (e.g. do a violin plot as above)\n",
    "* If you know an interesting dataset that is not yet on OpenML, upload it.\n",
    "* On the MAGIC dataset (task 3954), download all results for the RandomForest classifier\n",
    "* Plot both accuracy and training time against the number of estimators in the random forest\n",
    "* Download all dataset qualities for the MAGIC dataset\n",
    "\n",
    "Advanced:\n",
    "* Get all tasks labeled 'OpenML_CC18'. Download all data qualities for all datasets and all training times for all RandomForest experiments. \n",
    "* Build a meta-model that predicts the training time of a RandomForest on an arbitrary dataset."
   ]
  },
  {
   "cell_type": "code",
   "execution_count": null,
   "metadata": {},
   "outputs": [],
   "source": []
  },
  {
   "cell_type": "code",
   "execution_count": null,
   "metadata": {},
   "outputs": [],
   "source": []
  }
 ],
 "metadata": {
  "anaconda-cloud": {},
  "celltoolbar": "Slideshow",
  "colabVersion": "0.1",
  "kernelspec": {
   "display_name": "Python 3",
   "language": "python",
   "name": "python3"
  },
  "language_info": {
   "codemirror_mode": {
    "name": "ipython",
    "version": 3
   },
   "file_extension": ".py",
   "mimetype": "text/x-python",
   "name": "python",
   "nbconvert_exporter": "python",
   "pygments_lexer": "ipython3",
   "version": "3.6.4"
  }
 },
 "nbformat": 4,
 "nbformat_minor": 1
}
