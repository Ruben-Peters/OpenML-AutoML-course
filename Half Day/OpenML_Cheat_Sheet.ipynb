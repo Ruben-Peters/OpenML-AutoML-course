{
 "cells": [
  {
   "cell_type": "markdown",
   "metadata": {
    "cell_style": "split",
    "nbpresent": {
     "id": "365ab75b-fb74-4fc0-9efb-ea51b2c208e6"
    },
    "slideshow": {
     "slide_type": "slide"
    }
   },
   "source": [
    "# OpenML Cheat Sheet (Python)"
   ]
  },
  {
   "cell_type": "code",
   "execution_count": 1,
   "metadata": {
    "cell_style": "split",
    "hide_input": false
   },
   "outputs": [],
   "source": [
    "# General imports\n",
    "from openml import datasets, tasks, runs, flows, config\n",
    "import os, pandas, sklearn, arff, pprint, numpy"
   ]
  },
  {
   "cell_type": "markdown",
   "metadata": {
    "cell_style": "split",
    "hide_input": true,
    "nbpresent": {
     "id": "22990c96-6359-4864-bfc4-eb4c3c5a1ec1"
    },
    "slideshow": {
     "slide_type": "slide"
    }
   },
   "source": [
    "## config\n",
    "\n",
    "Find your API key (required for uploads):\n",
    "* `www.openml.org` > Your profile > API Authentication\n",
    "\n",
    "Main OpenML servers:\n",
    "* Public: `https://www.openml.org/api/v1` (default)\n",
    "* Test: `https://test.openml.org/api/v1` "
   ]
  },
  {
   "cell_type": "markdown",
   "metadata": {
    "cell_style": "split"
   },
   "source": [
    "Set server, API key and cache directory (default: `~/.openml/cache`)"
   ]
  },
  {
   "cell_type": "raw",
   "metadata": {
    "cell_style": "split"
   },
   "source": [
    "config.apikey = 'qxlfpbe...ebairtd'\n",
    "config.server = 'https://...'\n",
    "config.set_cache_directory(os.path.expanduser('~/mycache'))"
   ]
  },
  {
   "cell_type": "markdown",
   "metadata": {
    "cell_style": "split"
   },
   "source": [
    "Or, create a config file called `~/.openml/config`\n",
    "and add these lines:"
   ]
  },
  {
   "cell_type": "code",
   "execution_count": null,
   "metadata": {
    "cell_style": "split",
    "collapsed": true,
    "hide_input": false
   },
   "outputs": [],
   "source": [
    "server=https://www.openml.org/api/v1\n",
    "apikey=qxlfpbeaudtprb23985hcqlfoebairtd\n",
    "cachedir=/homedir/.openml/cache"
   ]
  },
  {
   "cell_type": "markdown",
   "metadata": {
    "cell_style": "split",
    "nbpresent": {
     "id": "e4f0afda-8f78-4162-b196-b12399a65a5a"
    },
    "slideshow": {
     "slide_type": "slide"
    }
   },
   "source": [
    "## datasets  \n",
    "**`list_datasets(offset=None, size=None, tag=None)`**\n",
    "* returns ID -> dataset dict mapping \n",
    "* `offset` and `size` for paging results\n",
    "* `tag` to filter datasets (e.g. 'uci')"
   ]
  },
  {
   "cell_type": "code",
   "execution_count": 2,
   "metadata": {
    "cell_style": "split",
    "nbpresent": {
     "id": "1f22460f-b6da-4e90-9437-336b84527224"
    },
    "scrolled": false
   },
   "outputs": [
    {
     "data": {
      "text/html": [
       "<div>\n",
       "<style scoped>\n",
       "    .dataframe tbody tr th:only-of-type {\n",
       "        vertical-align: middle;\n",
       "    }\n",
       "\n",
       "    .dataframe tbody tr th {\n",
       "        vertical-align: top;\n",
       "    }\n",
       "\n",
       "    .dataframe thead th {\n",
       "        text-align: right;\n",
       "    }\n",
       "</style>\n",
       "<table border=\"1\" class=\"dataframe\">\n",
       "  <thead>\n",
       "    <tr style=\"text-align: right;\">\n",
       "      <th></th>\n",
       "      <th>name</th>\n",
       "      <th>NumberOfInstances</th>\n",
       "      <th>NumberOfFeatures</th>\n",
       "    </tr>\n",
       "  </thead>\n",
       "  <tbody>\n",
       "    <tr>\n",
       "      <th>2</th>\n",
       "      <td>anneal</td>\n",
       "      <td>898</td>\n",
       "      <td>39</td>\n",
       "    </tr>\n",
       "    <tr>\n",
       "      <th>3</th>\n",
       "      <td>kr-vs-kp</td>\n",
       "      <td>3196</td>\n",
       "      <td>37</td>\n",
       "    </tr>\n",
       "    <tr>\n",
       "      <th>4</th>\n",
       "      <td>labor</td>\n",
       "      <td>57</td>\n",
       "      <td>17</td>\n",
       "    </tr>\n",
       "  </tbody>\n",
       "</table>\n",
       "</div>"
      ],
      "text/plain": [
       "       name  NumberOfInstances  NumberOfFeatures\n",
       "2    anneal                898                39\n",
       "3  kr-vs-kp               3196                37\n",
       "4     labor                 57                17"
      ]
     },
     "execution_count": 2,
     "metadata": {},
     "output_type": "execute_result"
    }
   ],
   "source": [
    "dlist = datasets.list_datasets(size=100)\n",
    "pandas.DataFrame.from_dict(dlist, orient='index')[\n",
    "['name','NumberOfInstances', 'NumberOfFeatures']][:3]"
   ]
  },
  {
   "cell_type": "markdown",
   "metadata": {
    "cell_style": "split"
   },
   "source": [
    "**`get_dataset(dataset_id)`**\n",
    "* returns **OpenMLDataset** object\n",
    "* automatically downloads and caches the data itself"
   ]
  },
  {
   "cell_type": "code",
   "execution_count": 3,
   "metadata": {
    "cell_style": "split",
    "nbpresent": {
     "id": "d377efff-2484-4ac3-8706-6434644949fd"
    }
   },
   "outputs": [
    {
     "name": "stdout",
     "output_type": "stream",
     "text": [
      "eeg-eye-state\n",
      "Target: Class\n",
      "All data is from one continuous EEG measurement \n"
     ]
    }
   ],
   "source": [
    "odata = datasets.get_dataset(1471)\n",
    "print(odata.name, \"Target: \"+ odata.default_target_attribute, \n",
    "      odata.description[260:308], sep='\\n')"
   ]
  },
  {
   "cell_type": "markdown",
   "metadata": {
    "cell_style": "split"
   },
   "source": [
    "**`OpenMLDataset`**  \n",
    "\n",
    "**`.features`**: list of features and their properties  \n",
    "**`.qualities`**: list of all dataset properties  \n",
    "\n",
    "**`.get_data`**(target,return_attribute_names=False,return_categorical_indicator=False):  \n",
    "  returns numpy arrays (or sparse matrices) with features and targets, optionally with attribute names and which are categorical  \n",
    "**`.retrieve_class_labels(target_name='class')`**: return all class labels for the given target attribute\n",
    "\n"
   ]
  },
  {
   "cell_type": "code",
   "execution_count": 4,
   "metadata": {
    "cell_style": "split"
   },
   "outputs": [
    {
     "data": {
      "text/html": [
       "<div>\n",
       "<style scoped>\n",
       "    .dataframe tbody tr th:only-of-type {\n",
       "        vertical-align: middle;\n",
       "    }\n",
       "\n",
       "    .dataframe tbody tr th {\n",
       "        vertical-align: top;\n",
       "    }\n",
       "\n",
       "    .dataframe thead th {\n",
       "        text-align: right;\n",
       "    }\n",
       "</style>\n",
       "<table border=\"1\" class=\"dataframe\">\n",
       "  <thead>\n",
       "    <tr style=\"text-align: right;\">\n",
       "      <th></th>\n",
       "      <th>V1</th>\n",
       "      <th>V2</th>\n",
       "      <th>V3</th>\n",
       "      <th>V4</th>\n",
       "      <th>V5</th>\n",
       "      <th>V6</th>\n",
       "      <th>V7</th>\n",
       "      <th>V8</th>\n",
       "      <th>V9</th>\n",
       "      <th>V10</th>\n",
       "      <th>V11</th>\n",
       "      <th>V12</th>\n",
       "      <th>V13</th>\n",
       "      <th>V14</th>\n",
       "    </tr>\n",
       "  </thead>\n",
       "  <tbody>\n",
       "    <tr>\n",
       "      <th>0</th>\n",
       "      <td>4329.229980</td>\n",
       "      <td>4009.229980</td>\n",
       "      <td>4289.229980</td>\n",
       "      <td>4148.209961</td>\n",
       "      <td>4350.259766</td>\n",
       "      <td>4586.149902</td>\n",
       "      <td>4096.919922</td>\n",
       "      <td>4641.029785</td>\n",
       "      <td>4222.049805</td>\n",
       "      <td>4238.459961</td>\n",
       "      <td>4211.279785</td>\n",
       "      <td>4280.509766</td>\n",
       "      <td>4635.899902</td>\n",
       "      <td>4393.850098</td>\n",
       "    </tr>\n",
       "    <tr>\n",
       "      <th>1</th>\n",
       "      <td>4324.620117</td>\n",
       "      <td>4004.620117</td>\n",
       "      <td>4293.850098</td>\n",
       "      <td>4148.720215</td>\n",
       "      <td>4342.049805</td>\n",
       "      <td>4586.669922</td>\n",
       "      <td>4097.439941</td>\n",
       "      <td>4638.970215</td>\n",
       "      <td>4210.770020</td>\n",
       "      <td>4226.669922</td>\n",
       "      <td>4207.689941</td>\n",
       "      <td>4279.490234</td>\n",
       "      <td>4632.819824</td>\n",
       "      <td>4384.100098</td>\n",
       "    </tr>\n",
       "  </tbody>\n",
       "</table>\n",
       "</div>"
      ],
      "text/plain": [
       "            V1           V2           V3           V4           V5  \\\n",
       "0  4329.229980  4009.229980  4289.229980  4148.209961  4350.259766   \n",
       "1  4324.620117  4004.620117  4293.850098  4148.720215  4342.049805   \n",
       "\n",
       "            V6           V7           V8           V9          V10  \\\n",
       "0  4586.149902  4096.919922  4641.029785  4222.049805  4238.459961   \n",
       "1  4586.669922  4097.439941  4638.970215  4210.770020  4226.669922   \n",
       "\n",
       "           V11          V12          V13          V14  \n",
       "0  4211.279785  4280.509766  4635.899902  4393.850098  \n",
       "1  4207.689941  4279.490234  4632.819824  4384.100098  "
      ]
     },
     "execution_count": 4,
     "metadata": {},
     "output_type": "execute_result"
    }
   ],
   "source": [
    "X, y, attribute_names = odata.get_data(\n",
    "    target=odata.default_target_attribute, \n",
    "    return_attribute_names=True)\n",
    "pandas.DataFrame(X, columns=attribute_names)[:2]"
   ]
  },
  {
   "cell_type": "code",
   "execution_count": 6,
   "metadata": {
    "cell_style": "split",
    "nbpresent": {
     "id": "e99e1923-f713-480b-aeb7-317f1ca9f21c"
    }
   },
   "outputs": [
    {
     "data": {
      "text/plain": [
       "LinearRegression(copy_X=True, fit_intercept=True, n_jobs=1, normalize=False)"
      ]
     },
     "execution_count": 6,
     "metadata": {},
     "output_type": "execute_result"
    }
   ],
   "source": [
    "# Train a scikit-learn classifier on this data\n",
    "from sklearn import linear_model\n",
    "sklearn.linear_model.LinearRegression().fit(X, y)"
   ]
  },
  {
   "cell_type": "markdown",
   "metadata": {
    "cell_style": "split",
    "nbpresent": {
     "id": "eeb5fce8-4073-40c3-ab2b-a211bc77b1d4"
    },
    "slideshow": {
     "slide_type": "skip"
    }
   },
   "source": [
    "**Upload new datasets**\n",
    "* Create a new OpenML dataset with all relevant information\n",
    "* Call **`.publish()`** to upload\n",
    "* Note: use test server for testing"
   ]
  },
  {
   "cell_type": "raw",
   "metadata": {
    "cell_style": "split"
   },
   "source": [
    "mydata = datasets.OpenMLDataset(data_file='test.arff', name='t', description='t', version='1', format='ARFF', licence='Public', visibility='public', default_target_attribute='class')\n",
    "response = mydata.publish()\n",
    "print(\"New dataset ID: \" + str(response.dataset_id)) "
   ]
  },
  {
   "cell_type": "markdown",
   "metadata": {
    "cell_style": "split",
    "nbpresent": {
     "id": "ba1405dc-32b8-4518-9904-c54b0cae6757"
    },
    "slideshow": {
     "slide_type": "slide"
    }
   },
   "source": [
    "## tasks  \n",
    "**`list_tasks(task_type_id=None, offset=None, size=None, tag=None)`**\n",
    "* returns ID -> task dict mapping (task IDs do not match dataset IDs)\n",
    "* `offset` and `size` for paging results, `tag` to filter tags\n",
    "* `task_type_id`: 1=Classification, 2=Regression,..."
   ]
  },
  {
   "cell_type": "code",
   "execution_count": 7,
   "metadata": {
    "cell_style": "split"
   },
   "outputs": [
    {
     "data": {
      "text/html": [
       "<div>\n",
       "<style scoped>\n",
       "    .dataframe tbody tr th:only-of-type {\n",
       "        vertical-align: middle;\n",
       "    }\n",
       "\n",
       "    .dataframe tbody tr th {\n",
       "        vertical-align: top;\n",
       "    }\n",
       "\n",
       "    .dataframe thead th {\n",
       "        text-align: right;\n",
       "    }\n",
       "</style>\n",
       "<table border=\"1\" class=\"dataframe\">\n",
       "  <thead>\n",
       "    <tr style=\"text-align: right;\">\n",
       "      <th></th>\n",
       "      <th>name</th>\n",
       "      <th>task_type</th>\n",
       "      <th>estimation_procedure</th>\n",
       "    </tr>\n",
       "  </thead>\n",
       "  <tbody>\n",
       "    <tr>\n",
       "      <th>2</th>\n",
       "      <td>anneal</td>\n",
       "      <td>Supervised Classification</td>\n",
       "      <td>10-fold Crossvalidation</td>\n",
       "    </tr>\n",
       "    <tr>\n",
       "      <th>3</th>\n",
       "      <td>kr-vs-kp</td>\n",
       "      <td>Supervised Classification</td>\n",
       "      <td>10-fold Crossvalidation</td>\n",
       "    </tr>\n",
       "    <tr>\n",
       "      <th>4</th>\n",
       "      <td>labor</td>\n",
       "      <td>Supervised Classification</td>\n",
       "      <td>10-fold Crossvalidation</td>\n",
       "    </tr>\n",
       "  </tbody>\n",
       "</table>\n",
       "</div>"
      ],
      "text/plain": [
       "       name                  task_type     estimation_procedure\n",
       "2    anneal  Supervised Classification  10-fold Crossvalidation\n",
       "3  kr-vs-kp  Supervised Classification  10-fold Crossvalidation\n",
       "4     labor  Supervised Classification  10-fold Crossvalidation"
      ]
     },
     "execution_count": 7,
     "metadata": {},
     "output_type": "execute_result"
    }
   ],
   "source": [
    "tlist = tasks.list_tasks(size=100)\n",
    "pandas.DataFrame.from_dict(tlist, orient='index')[\n",
    "['name','task_type','estimation_procedure']][:3]"
   ]
  },
  {
   "cell_type": "markdown",
   "metadata": {
    "cell_style": "center"
   },
   "source": [
    "**`OpenMLTask`**  \n",
    "**`.get_dataset()`**: downloads associated dataset   \n",
    "**`.download_split()`**: downloads train/test splits  \n",
    "    \n",
    "**Create new tasks**  \n",
    "Under development"
   ]
  },
  {
   "cell_type": "markdown",
   "metadata": {
    "cell_style": "split"
   },
   "source": [
    "**`get_task(task_id)`**\n",
    "* returns **OpenMLTask** object\n",
    "    *  includes estimation procedure, target name, cost matrix,...\n",
    "* automatically caches the task description"
   ]
  },
  {
   "cell_type": "code",
   "execution_count": 8,
   "metadata": {
    "cell_style": "split",
    "hide_input": false,
    "nbpresent": {
     "id": "8d954b88-96dc-48d5-ad06-524d040a0324"
    }
   },
   "outputs": [
    {
     "name": "stdout",
     "output_type": "stream",
     "text": [
      "{'data_splits_url': 'https://www.openml.org/api_splits/get/14951/Task_14951_splits.arff',\n",
      " 'parameters': {'number_folds': '10',\n",
      "                'number_repeats': '1',\n",
      "                'percentage': '',\n",
      "                'stratified_sampling': 'true'},\n",
      " 'type': 'crossvalidation'}\n"
     ]
    }
   ],
   "source": [
    "task = tasks.get_task(14951)\n",
    "pprint.pprint(task.estimation_procedure)"
   ]
  },
  {
   "cell_type": "markdown",
   "metadata": {
    "cell_style": "split"
   },
   "source": [
    "## flows  \n",
    "**`list_flows(offset=None, size=None, tag=None)`**\n",
    "* returns ID -> flow dict mapping\n",
    "* `offset` and `size` for paging results, `tag` to filter tags"
   ]
  },
  {
   "cell_type": "code",
   "execution_count": 9,
   "metadata": {
    "cell_style": "split"
   },
   "outputs": [
    {
     "data": {
      "text/html": [
       "<div>\n",
       "<style scoped>\n",
       "    .dataframe tbody tr th:only-of-type {\n",
       "        vertical-align: middle;\n",
       "    }\n",
       "\n",
       "    .dataframe tbody tr th {\n",
       "        vertical-align: top;\n",
       "    }\n",
       "\n",
       "    .dataframe thead th {\n",
       "        text-align: right;\n",
       "    }\n",
       "</style>\n",
       "<table border=\"1\" class=\"dataframe\">\n",
       "  <thead>\n",
       "    <tr style=\"text-align: right;\">\n",
       "      <th></th>\n",
       "      <th>name</th>\n",
       "      <th>version</th>\n",
       "      <th>external_version</th>\n",
       "    </tr>\n",
       "  </thead>\n",
       "  <tbody>\n",
       "    <tr>\n",
       "      <th>101</th>\n",
       "      <td>moa.WEKAClassifier_REPTree</td>\n",
       "      <td>1</td>\n",
       "      <td>Moa_2014.03_1.0</td>\n",
       "    </tr>\n",
       "    <tr>\n",
       "      <th>102</th>\n",
       "      <td>weka.REPTree</td>\n",
       "      <td>2</td>\n",
       "      <td>Weka_3.7.5_9378</td>\n",
       "    </tr>\n",
       "  </tbody>\n",
       "</table>\n",
       "</div>"
      ],
      "text/plain": [
       "                           name version external_version\n",
       "101  moa.WEKAClassifier_REPTree       1  Moa_2014.03_1.0\n",
       "102                weka.REPTree       2  Weka_3.7.5_9378"
      ]
     },
     "execution_count": 9,
     "metadata": {},
     "output_type": "execute_result"
    }
   ],
   "source": [
    "flist = flows.list_flows(size=200)\n",
    "pandas.DataFrame.from_dict(flist, orient='index')[\n",
    "    ['name','version','external_version']][100:102]"
   ]
  },
  {
   "cell_type": "markdown",
   "metadata": {
    "cell_style": "split"
   },
   "source": [
    "**`sklearn_to_flow(sklearn_estimator)`**\n",
    "\n",
    "* converts a scikit-learn estimator or pipeline to an OpenML Flow\n",
    "\n",
    "**`publish()`**\n",
    "\n",
    "* Uploads the flow to the server. Returns ID"
   ]
  },
  {
   "cell_type": "code",
   "execution_count": 10,
   "metadata": {
    "cell_style": "split",
    "hide_input": false
   },
   "outputs": [],
   "source": [
    "lr = sklearn.linear_model.LinearRegression().fit(X, y)\n",
    "flow = flows.sklearn_to_flow(lr)\n",
    "\n",
    "pipe = sklearn.pipeline.Pipeline(steps=[\n",
    "    ('Imputer', sklearn.preprocessing.Normalizer()),\n",
    "    ('Classifier', sklearn.linear_model.LinearRegression())])\n",
    "flow2 = flows.sklearn_to_flow(pipe)\n",
    "# flows.publish(flow)"
   ]
  },
  {
   "cell_type": "markdown",
   "metadata": {
    "cell_style": "split"
   },
   "source": [
    "## runs  \n",
    "**`list_runs(offset=None, size=None, tag=None, id=None, task=None, flow=None, uploader=None, display_errors=False)`**\n",
    "* returns ID -> run dict mapping\n",
    "* `offset` and `size` for paging results, `tag` to filter tags\n",
    "* `id`: list of run IDs to filter on, e.g. [1,2,3]\n",
    "* `task`: list of task IDs to filter on, e.g. [1,2,3]\n",
    "* `flow`: list of flow IDs to filter on, e.g. [1,2,3]\n",
    "* `uploader`: list of uploader IDs to filter on, e.g. [1,2,3]\n",
    "* `display_errors`: whether to return failed runs"
   ]
  },
  {
   "cell_type": "code",
   "execution_count": 11,
   "metadata": {
    "cell_style": "split"
   },
   "outputs": [
    {
     "data": {
      "text/html": [
       "<div>\n",
       "<style scoped>\n",
       "    .dataframe tbody tr th:only-of-type {\n",
       "        vertical-align: middle;\n",
       "    }\n",
       "\n",
       "    .dataframe tbody tr th {\n",
       "        vertical-align: top;\n",
       "    }\n",
       "\n",
       "    .dataframe thead th {\n",
       "        text-align: right;\n",
       "    }\n",
       "</style>\n",
       "<table border=\"1\" class=\"dataframe\">\n",
       "  <thead>\n",
       "    <tr style=\"text-align: right;\">\n",
       "      <th></th>\n",
       "      <th>run_id</th>\n",
       "      <th>task_id</th>\n",
       "      <th>setup_id</th>\n",
       "      <th>flow_id</th>\n",
       "      <th>uploader</th>\n",
       "    </tr>\n",
       "  </thead>\n",
       "  <tbody>\n",
       "    <tr>\n",
       "      <th>544514</th>\n",
       "      <td>544514</td>\n",
       "      <td>14951</td>\n",
       "      <td>5540</td>\n",
       "      <td>3404</td>\n",
       "      <td>2</td>\n",
       "    </tr>\n",
       "    <tr>\n",
       "      <th>595116</th>\n",
       "      <td>595116</td>\n",
       "      <td>14951</td>\n",
       "      <td>6436</td>\n",
       "      <td>4074</td>\n",
       "      <td>2</td>\n",
       "    </tr>\n",
       "  </tbody>\n",
       "</table>\n",
       "</div>"
      ],
      "text/plain": [
       "        run_id  task_id  setup_id  flow_id  uploader\n",
       "544514  544514    14951      5540     3404         2\n",
       "595116  595116    14951      6436     4074         2"
      ]
     },
     "execution_count": 11,
     "metadata": {},
     "output_type": "execute_result"
    }
   ],
   "source": [
    "rlist = runs.list_runs(task=[14951],size=100)\n",
    "pandas.DataFrame.from_dict(rlist, orient='index')[1:3]"
   ]
  },
  {
   "cell_type": "code",
   "execution_count": 12,
   "metadata": {
    "cell_style": "split",
    "scrolled": true
   },
   "outputs": [
    {
     "data": {
      "text/html": [
       "<div>\n",
       "<style scoped>\n",
       "    .dataframe tbody tr th:only-of-type {\n",
       "        vertical-align: middle;\n",
       "    }\n",
       "\n",
       "    .dataframe tbody tr th {\n",
       "        vertical-align: top;\n",
       "    }\n",
       "\n",
       "    .dataframe thead th {\n",
       "        text-align: right;\n",
       "    }\n",
       "</style>\n",
       "<table border=\"1\" class=\"dataframe\">\n",
       "  <thead>\n",
       "    <tr style=\"text-align: right;\">\n",
       "      <th></th>\n",
       "      <th>run_id</th>\n",
       "      <th>task_id</th>\n",
       "      <th>setup_id</th>\n",
       "      <th>flow_id</th>\n",
       "      <th>uploader</th>\n",
       "    </tr>\n",
       "  </thead>\n",
       "  <tbody>\n",
       "    <tr>\n",
       "      <th>2</th>\n",
       "      <td>2</td>\n",
       "      <td>72</td>\n",
       "      <td>16</td>\n",
       "      <td>75</td>\n",
       "      <td>1</td>\n",
       "    </tr>\n",
       "    <tr>\n",
       "      <th>3</th>\n",
       "      <td>3</td>\n",
       "      <td>95</td>\n",
       "      <td>8</td>\n",
       "      <td>63</td>\n",
       "      <td>1</td>\n",
       "    </tr>\n",
       "  </tbody>\n",
       "</table>\n",
       "</div>"
      ],
      "text/plain": [
       "   run_id  task_id  setup_id  flow_id  uploader\n",
       "2       2       72        16       75         1\n",
       "3       3       95         8       63         1"
      ]
     },
     "execution_count": 12,
     "metadata": {},
     "output_type": "execute_result"
    }
   ],
   "source": [
    "rlist = runs.list_runs(id=[1,2,3])\n",
    "pandas.DataFrame.from_dict(rlist, orient='index')[1:3]"
   ]
  },
  {
   "cell_type": "markdown",
   "metadata": {
    "cell_style": "split"
   },
   "source": [
    "**`get_run(run_id)`**\n",
    "* returns **OpenMLRun** object\n",
    "    *  includes the exact task, exact flow, and all evaluations\n",
    "* automatically caches the run description\n",
    "\n",
    "**OpenMLRun**  \n",
    "**.uploader_name**: full name of the run author  \n",
    "**.flow_name**: full name of the flow  \n",
    "**.parameter_settings**: hyperparameters of the flow  \n",
    "**.evaluations**: key-value pairs of metric and score  \n",
    "**.fold_evaluations**: dict of per-fold evaluations  "
   ]
  },
  {
   "cell_type": "code",
   "execution_count": 13,
   "metadata": {
    "cell_style": "split"
   },
   "outputs": [
    {
     "data": {
      "text/html": [
       "<div>\n",
       "<style scoped>\n",
       "    .dataframe tbody tr th:only-of-type {\n",
       "        vertical-align: middle;\n",
       "    }\n",
       "\n",
       "    .dataframe tbody tr th {\n",
       "        vertical-align: top;\n",
       "    }\n",
       "\n",
       "    .dataframe thead th {\n",
       "        text-align: right;\n",
       "    }\n",
       "</style>\n",
       "<table border=\"1\" class=\"dataframe\">\n",
       "  <thead>\n",
       "    <tr style=\"text-align: right;\">\n",
       "      <th></th>\n",
       "      <th>flow</th>\n",
       "      <th>score</th>\n",
       "    </tr>\n",
       "  </thead>\n",
       "  <tbody>\n",
       "    <tr>\n",
       "      <th>5</th>\n",
       "      <td>sklearn.tree.tree.ExtraTreeClassifier(11)</td>\n",
       "      <td>0.791964</td>\n",
       "    </tr>\n",
       "    <tr>\n",
       "      <th>6</th>\n",
       "      <td>sklearn.tree.tree.ExtraTreeClassifier(11)</td>\n",
       "      <td>0.789517</td>\n",
       "    </tr>\n",
       "    <tr>\n",
       "      <th>7</th>\n",
       "      <td>sklearn.tree.tree.ExtraTreeClassifier(11)</td>\n",
       "      <td>0.789965</td>\n",
       "    </tr>\n",
       "  </tbody>\n",
       "</table>\n",
       "</div>"
      ],
      "text/plain": [
       "                                        flow     score\n",
       "5  sklearn.tree.tree.ExtraTreeClassifier(11)  0.791964\n",
       "6  sklearn.tree.tree.ExtraTreeClassifier(11)  0.789517\n",
       "7  sklearn.tree.tree.ExtraTreeClassifier(11)  0.789965"
      ]
     },
     "execution_count": 13,
     "metadata": {},
     "output_type": "execute_result"
    }
   ],
   "source": [
    "rlist = runs.list_runs(task=[14951],size=100)\n",
    "scores = []\n",
    "for id, _ in rlist.items():\n",
    "    run = runs.get_run(id)\n",
    "    scores.append({\"flow\":run.flow_name, \n",
    "                   \"score\":run.evaluations['area_under_roc_curve']})\n",
    "pandas.DataFrame.from_dict(scores)[5:8]"
   ]
  },
  {
   "cell_type": "markdown",
   "metadata": {
    "cell_style": "split"
   },
   "source": [
    "**`run_flow_on_task(task, flow)`**\n",
    "* Runs the flow on the task\n",
    "* Trains and tests the flow of all train/test splits defined by the task\n",
    "* Returns an **OpenMLRun** model with all information\n",
    "\n",
    "**`publish()`**\n",
    "* Publishes the run on OpenML\n"
   ]
  },
  {
   "cell_type": "code",
   "execution_count": 14,
   "metadata": {
    "cell_style": "split"
   },
   "outputs": [
    {
     "data": {
      "text/plain": [
       "{0: 0.63551401869158874,\n",
       " 1: 0.65220293724966627,\n",
       " 2: 0.63484646194926564,\n",
       " 3: 0.63684913217623496,\n",
       " 4: 0.6435246995994659,\n",
       " 5: 0.64552736982643522,\n",
       " 6: 0.64018691588785048,\n",
       " 7: 0.63551401869158874,\n",
       " 8: 0.63417890520694264,\n",
       " 9: 0.64686248331108143}"
      ]
     },
     "execution_count": 14,
     "metadata": {},
     "output_type": "execute_result"
    }
   ],
   "source": [
    "task = tasks.get_task(14951)\n",
    "clf = sklearn.linear_model.LogisticRegression()\n",
    "flow = flows.sklearn_to_flow(clf)\n",
    "run = runs.run_flow_on_task(task, flow)\n",
    "run.fold_evaluations['predictive_accuracy'][0]\n",
    "# run.publish()"
   ]
  },
  {
   "cell_type": "markdown",
   "metadata": {},
   "source": [
    "---"
   ]
  },
  {
   "cell_type": "markdown",
   "metadata": {
    "cell_style": "split"
   },
   "source": [
    "## Example use case\n",
    "Algorithm benchmarking:\n",
    "* Download a number of tasks\n",
    "* Choose any model or pipeline (flow)\n",
    "* Run the flow on the task a model, evaluate and upload"
   ]
  },
  {
   "cell_type": "code",
   "execution_count": 206,
   "metadata": {
    "cell_style": "split"
   },
   "outputs": [
    {
     "name": "stdout",
     "output_type": "stream",
     "text": [
      "kNN on eeg-eye-state: http://www.openml.org/r/7946204\n",
      "kNN on volcanoes-a1: http://www.openml.org/r/7946207\n",
      "kNN on walking-activity: http://www.openml.org/r/7946209\n"
     ]
    }
   ],
   "source": [
    "for task_id in [14951,10103,9945]:\n",
    "    task = tasks.get_task(task_id)\n",
    "    data = datasets.get_dataset(task.dataset_id)\n",
    "    clf = sklearn.neighbors.KNeighborsClassifier(n_neighbors=5)\n",
    "    flow = flows.sklearn_to_flow(clf)\n",
    "    \n",
    "    try:\n",
    "        run = runs.run_flow_on_task(task, flow)\n",
    "        myrun = run.publish()\n",
    "        print(\"kNN on %s: http://www.openml.org/r/%d\" % (data.name, myrun.run_id))\n",
    "    except oml.exceptions.PyOpenMLError as err:\n",
    "        print(\"OpenML: {0}\".format(err))"
   ]
  }
 ],
 "metadata": {
  "anaconda-cloud": {},
  "colabVersion": "0.1",
  "kernelspec": {
   "display_name": "Python 3",
   "language": "python",
   "name": "python3"
  },
  "language_info": {
   "codemirror_mode": {
    "name": "ipython",
    "version": 3
   },
   "file_extension": ".py",
   "mimetype": "text/x-python",
   "name": "python",
   "nbconvert_exporter": "python",
   "pygments_lexer": "ipython3",
   "version": "3.6.4"
  }
 },
 "nbformat": 4,
 "nbformat_minor": 1
}
