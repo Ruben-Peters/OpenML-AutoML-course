{
 "cells": [
  {
   "cell_type": "markdown",
   "metadata": {
    "slideshow": {
     "slide_type": "slide"
    }
   },
   "source": [
    "# Prerequisites"
   ]
  },
  {
   "cell_type": "markdown",
   "metadata": {
    "slideshow": {
     "slide_type": "slide"
    }
   },
   "source": [
    "## Course materials on GitHub\n",
    "The course materials are available on GitHub. You can download the course [as a .zip file](https://github.com/joaquinvanschoren/OpenML-AutoML-course):  \n",
    "- Click 'Clone or download'\n",
    "- Download individual files with right-click -> Save Link As...\n",
    "\n",
    "Or, if you have `git` installed, you can just clone the repository:\n",
    "\n",
    "    git clone https://github.com/joaquinvanschoren/OpenML-AutoML-course.git"
   ]
  },
  {
   "cell_type": "markdown",
   "metadata": {
    "slideshow": {
     "slide_type": "slide"
    }
   },
   "source": [
    "## Python\n",
    "You first need to set up a Python environment (if you do not have done so already). The easiest way to do this is by installing [Anaconda](https://www.continuum.io/downloads). We will be using Python 3.\n",
    "\n",
    "If you are new to Python, see:\n",
    "- [Definite Guide to Python](https://www.programiz.com/python-programming)\n",
    "- [Whirlwind Tour of Python](https://github.com/jakevdp/WhirlwindTourOfPython)\n",
    "- [DataCamp Intro to Python for Data Science](https://www.datacamp.com/courses/intro-to-python-for-data-science) (step-by-step)\n",
    "- [Hackerrank challenges](https://www.hackerrank.com/domains/python) (for practice)"
   ]
  },
  {
   "cell_type": "markdown",
   "metadata": {
    "slideshow": {
     "slide_type": "subslide"
    }
   },
   "source": [
    "## Required packages\n",
    "\n",
    "### Installing core packages\n",
    "If you are using Anaconda, you can use the ``conda`` package manager to install all packages:\n",
    "\n",
    "    conda install numpy scipy scikit-learn matplotlib pandas jupyter\n",
    "    \n",
    "Otherwise, you can use the `pip` package manager:\n",
    "\n",
    "    pip install numpy scipy scikit-learn matplotlib pandas jupyter\n",
    "    \n",
    "### Installing OpenML - AutoML packages\n",
    "\n",
    "[auto-sklearn](https://automl.github.io/auto-sklearn/stable/installation.html) and [TPOT](https://epistasislab.github.io/tpot/installing/) have some dependencies:\n",
    "\n",
    "    curl https://raw.githubusercontent.com/automl/auto-sklearn/master/requirements.txt | xargs -n 1 -L 1 pip install\n",
    "    \n",
    "    pip install deap update_checker tqdm stopit xgboost\n",
    "    \n",
    "Install [OpenML](https://docs.openml.org/Python-start/), auto-sklearn and TPOT themselves:\n",
    "\n",
    "    pip install openml auto-sklearn tpot\n",
    "    \n",
    "_Note: If you run into issues, click the links to see further installation instructions and troubleshooting information._\n",
    "    "
   ]
  }
 ],
 "metadata": {
  "anaconda-cloud": {},
  "celltoolbar": "Slideshow",
  "kernelspec": {
   "display_name": "Python 3",
   "language": "python",
   "name": "python3"
  },
  "language_info": {
   "codemirror_mode": {
    "name": "ipython",
    "version": 3
   },
   "file_extension": ".py",
   "mimetype": "text/x-python",
   "name": "python",
   "nbconvert_exporter": "python",
   "pygments_lexer": "ipython3",
   "version": "3.6.4"
  }
 },
 "nbformat": 4,
 "nbformat_minor": 1
}
