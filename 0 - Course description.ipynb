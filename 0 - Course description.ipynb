{
 "cells": [
  {
   "cell_type": "markdown",
   "metadata": {},
   "source": [
    "# Open and Automatic Machine Learning\n",
    " \n",
    "### FACULTY\n",
    "Dr. ir. J. (Joaquin) Vanschoren\n",
    " \n",
    "### GENERAL DESCRIPTION OF THE MODULE\n",
    "Building machine learning systems remains something of a (black) art, requiring a lot of prior experience to create appropriate machine learning systems (from machine learning pipelines to deep learning architectures) and their hyperparameters. In this module, we will learn how to turn this black art into a science. \n",
    "\n",
    "First, we will learn about OpenML, an open science platform allowing anyone to share datasets and train many machine learning models from many software tools in a frictionless yet principled way. It organizes all results online, providing detailed insight into the performance of machine learning techniques, and allowing a more scientific, data-driven approach to building new machine learning systems. \n",
    "\n",
    "Second, we will learn about automatic machine learning (AutoML), where we use machine learning to automatically build machine learning pipelines. We will cover the main techniques for automated hyperparameter optimization and pipeline synthesis. Finally, we will discuss meta-learning techniques, which _learn how to learn_ from prior experiments (on other datasets) and apply that to build better models and pipelines automatically.\n",
    " \n",
    "### LEARNING OUTCOMES\n",
    "- Using open datasets, pipelines and experiments from OpenML\n",
    "- Sharing your own datasets, pipelines, and experiments on OpenML\n",
    "- Solid understanding of the main techniques in automatic machine learning\n",
    "- Leveraging OpenML and AutoML techniques to build better machine learning models, faster\n",
    " \n",
    "### TOOLS USED IN THIS MODULE\n",
    "- A modern Python environment (e.g. Anaconda)\n",
    "- sklearn, OpenML, AutoSKLearn, TPOT\n",
    "- See the Prerequisites notebook for installation instuctions\n",
    "\n",
    "### PROGRAM\n",
    "| Time | Topic |\n",
    "| :- | :- |\n",
    "| 9.00 - 10.30 | Open Machine Learning |\n",
    "| 10.30 - 10.45 | Coffee | \n",
    "| 10.45 - 12.15 | OpenML: exercises | \n",
    "| 12.15 - 13.00 | Lunch | \n",
    "| 13.00 - 14.30 | Automatic Machine Learning |\n",
    "| 14.30 - 14.45 | Coffee | \n",
    "| 14.45 - 15.45 | AutoML: exercises |"
   ]
  }
 ],
 "metadata": {
  "kernelspec": {
   "display_name": "Python 3",
   "language": "python",
   "name": "python3"
  },
  "language_info": {
   "codemirror_mode": {
    "name": "ipython",
    "version": 3
   },
   "file_extension": ".py",
   "mimetype": "text/x-python",
   "name": "python",
   "nbconvert_exporter": "python",
   "pygments_lexer": "ipython3",
   "version": "3.6.4"
  }
 },
 "nbformat": 4,
 "nbformat_minor": 2
}
